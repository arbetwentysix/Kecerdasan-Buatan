{
 "cells": [
  {
   "cell_type": "code",
   "execution_count": 82,
   "id": "78fa808b-0845-4a0b-9123-1ea8344d4789",
   "metadata": {},
   "outputs": [],
   "source": [
    "# Data\n",
    "company_detail_list = [\n",
    "    {\n",
    "      'name': 'Company 1',\n",
    "      'domain': 'Retail',\n",
    "      'country': 'United States'\n",
    "    },\n",
    "    {\n",
    "      'name': 'Company 2',\n",
    "      'domain': 'Technology',\n",
    "      'country': 'United Kingdom'\n",
    "    },\n",
    "    {\n",
    "      'name': 'Company 3',\n",
    "      'domain': 'Healthcare',\n",
    "      'country': 'United States'\n",
    "    }\n",
    "]\n",
    "\n",
    "employee_detail_list = [\n",
    "    {\n",
    "      'name': 'EMP-0001',\n",
    "      'first_name': 'John',\n",
    "      'last_name': 'Doe',\n",
    "      'full_name': 'John Doe',\n",
    "      'company': 'Company 1',\n",
    "      'nationality': 'Australia'\n",
    "    },\n",
    "    {\n",
    "      'name': 'EMP-0002',\n",
    "      'first_name': 'Tom',\n",
    "      'last_name': 'Smith',\n",
    "      'full_name': 'Tom Smith',\n",
    "      'company': 'Company 2',\n",
    "      'nationality': 'United States'\n",
    "    },\n",
    "    {\n",
    "      'name': 'EMP-0003',\n",
    "      'first_name': 'Andrew',\n",
    "      'last_name': 'Sebastian',\n",
    "      'full_name': 'Andrew Sebastian',\n",
    "      'company': 'Company 3',\n",
    "      'nationality': 'United States'\n",
    "    },\n",
    "    {\n",
    "      'name': 'EMP-0005',\n",
    "      'first_name': 'Ying Han',\n",
    "      'last_name': 'Tan',\n",
    "      'full_name': 'Ying Han Tan',\n",
    "      'company': 'Company 1',\n",
    "      'nationality': 'Australia'\n",
    "    },\n",
    "    {\n",
    "      'name': 'EMP-0015',\n",
    "      'first_name': 'Kenneth',\n",
    "      'last_name': 'Ng',\n",
    "      'full_name': 'Kenneth Ng',\n",
    "      'company': 'Company 3',\n",
    "      'nationality': 'United States'\n",
    "    },\n",
    "    {\n",
    "      'name': 'EMP-0018',\n",
    "      'first_name': 'Rubby',\n",
    "      'last_name': 'Lee',\n",
    "      'full_name': 'Rubby Lee',\n",
    "      'company': 'Company 2',\n",
    "      'nationality': 'Hong Kong'\n",
    "    },\n",
    "    {\n",
    "      'name': 'EMP-0017',\n",
    "      'first_name': 'Robert',\n",
    "      'last_name': 'White',\n",
    "      'full_name': 'Robert White',\n",
    "      'company': 'Company 1',\n",
    "      'nationality': 'United Kingdom'\n",
    "    }\n",
    "]"
   ]
  },
  {
   "cell_type": "markdown",
   "id": "fb72451a-0262-42e9-8b9f-f9b0f2e53973",
   "metadata": {},
   "source": [
    "### Task 1"
   ]
  },
  {
   "cell_type": "code",
   "execution_count": 83,
   "id": "c095ec00-cfaa-4401-89e5-5d91c7ae555d",
   "metadata": {},
   "outputs": [],
   "source": [
    "# Expected result\n",
    "# [\n",
    "#     {\n",
    "#         \"name\": \"Company 3\"|\n",
    "#     }, \n",
    "#     {\n",
    "#         \"name\": \"Company 2\"\n",
    "#     }, \n",
    "#     {\n",
    "#         \"name\": \"Company 1\"\n",
    "#     }\n",
    "# ]"
   ]
  },
  {
   "cell_type": "code",
   "execution_count": 84,
   "id": "5669dee6-50af-4655-8533-c3d4ea6e34e6",
   "metadata": {},
   "outputs": [
    {
     "data": {
      "text/plain": [
       "[{'name': 'Company 3'}, {'name': 'Company 2'}, {'name': 'Company 1'}]"
      ]
     },
     "execution_count": 84,
     "metadata": {},
     "output_type": "execute_result"
    }
   ],
   "source": [
    "result_task1 = []\n",
    "for company in company_detail_list:\n",
    "    result_task1.append({ \"name\": company['name'] })\n",
    "\n",
    "result_task1.reverse()\n",
    "\n",
    "result_task1"
   ]
  },
  {
   "cell_type": "markdown",
   "id": "f916759b-0881-40fc-81fc-ee72db726628",
   "metadata": {},
   "source": [
    "### Task 2"
   ]
  },
  {
   "cell_type": "code",
   "execution_count": 85,
   "id": "02634ae1-d655-4f6c-9586-83b73d6ac53e",
   "metadata": {},
   "outputs": [],
   "source": [
    "# Expected Result\n",
    "# Company 1: Retail (United States)\n",
    "# Company 2: Technology (United Kingdom)\n",
    "# Company 3: Healthcare (United States)"
   ]
  },
  {
   "cell_type": "code",
   "execution_count": 86,
   "id": "7d194c42-69cc-4ea5-94d4-d55ffc50c4ba",
   "metadata": {},
   "outputs": [
    {
     "name": "stdout",
     "output_type": "stream",
     "text": [
      "Company 1: Retail (United States)\n",
      "Company 2: Technology (United Kingdom)\n",
      "Company 3: Healthcare (United States)\n"
     ]
    }
   ],
   "source": [
    "for company in company_detail_list:\n",
    "    print(f\"{company[\"name\"]}: {company[\"domain\"]} ({company[\"country\"]})\")"
   ]
  },
  {
   "cell_type": "markdown",
   "id": "58bbbc9f-a202-4204-a160-69608c0db03b",
   "metadata": {},
   "source": [
    "### Task 3"
   ]
  },
  {
   "cell_type": "code",
   "execution_count": 87,
   "id": "2c1b5752-7b95-4f9f-b90e-d879d6114af1",
   "metadata": {},
   "outputs": [],
   "source": [
    "# Expected return\n",
    "# {\n",
    "#     \"Retail\": [\n",
    "#          \"John Doe\",\n",
    "#          \"Robert White\",\n",
    "#          \"Ying Han Tan\"\n",
    "#      ],\n",
    "#     \"Technology\":[\n",
    "#           \"Tom Smith\",\n",
    "#           \"Rubby Lee\",\n",
    "#      ],\n",
    "#     \"Healthcare\": [\n",
    "#          \"Kenneth Ng\",\n",
    "#          \"Andrew Sebastian\"\n",
    "#      ],\n",
    "# }"
   ]
  },
  {
   "cell_type": "code",
   "execution_count": 88,
   "id": "0fcc41f3-739c-425e-bcc9-643a339d32e7",
   "metadata": {},
   "outputs": [
    {
     "data": {
      "text/plain": [
       "{'Retail': ['John Doe', 'Ying Han Tan', 'Robert White'],\n",
       " 'Technology': ['Tom Smith', 'Rubby Lee'],\n",
       " 'Healthcare': ['Andrew Sebastian', 'Kenneth Ng']}"
      ]
     },
     "execution_count": 88,
     "metadata": {},
     "output_type": "execute_result"
    }
   ],
   "source": [
    "employee_work = {}\n",
    "\n",
    "for company in company_detail_list:\n",
    "    name_list = []\n",
    "    for employee in employee_detail_list:\n",
    "        if employee[\"company\"] == company[\"name\"]:\n",
    "            name_list.append(employee[\"full_name\"])\n",
    "    employee_work[company[\"domain\"]] = name_list\n",
    "\n",
    "employee_work"
   ]
  },
  {
   "cell_type": "markdown",
   "id": "b16b166d-a479-47a5-b816-2d23f91827e3",
   "metadata": {},
   "source": [
    "### Task 4"
   ]
  },
  {
   "cell_type": "code",
   "execution_count": 89,
   "id": "d492da65-a5f0-4697-ba29-dc90076a0712",
   "metadata": {},
   "outputs": [],
   "source": [
    "# Expected return\n",
    "# [\n",
    "#     {\n",
    "#         \"full_name\": \"John Doe\",\n",
    "#         \"company\": \"Company 1\",\n",
    "#         \"country\": \"United States\"\n",
    "#     }, \n",
    "#     {\n",
    "#         \"full_name\": \"Tom Smith\",\n",
    "#         \"company\": \"Company 2\",\n",
    "#         \"country\": \"United Kingdom\"\n",
    "#     }, \n",
    "#     {\n",
    "#         \"full_name\": \"Andrew Sebastian\",\n",
    "#         \"company\": \"Company 3\",\n",
    "#         \"country\": \"United Kingdom\"\n",
    "#     },  \n",
    "#     {\n",
    "#         \"full_name\": \"Ying Han Tan\",\n",
    "#         \"company\": \"Company 1\",\n",
    "#         \"country\": \"United States\"\n",
    "#     },  \n",
    "#     {\n",
    "#         \"full_name\": \"Kenneth Ng\",\n",
    "#         \"company\": \"Company 3\",\n",
    "#         \"country\": \"United States\"\n",
    "#     },  \n",
    "#     {\n",
    "#         \"full_name\": \"Rubby Lee\",\n",
    "#         \"company\": \"Company 2\",\n",
    "#         \"country\": \"United Kingdom\"\n",
    "#     },   \n",
    "#     {\n",
    "#         \"full_name\": \"Robert White\",\n",
    "#         \"company\": \"Company 1\",\n",
    "#         \"country\": \"United States\"\n",
    "#     }, \n",
    "# ]"
   ]
  },
  {
   "cell_type": "code",
   "execution_count": 90,
   "id": "e62c0650-6f82-4205-a29f-13f595c879dc",
   "metadata": {},
   "outputs": [
    {
     "data": {
      "text/plain": [
       "[{'full_name': 'John Doe', 'company': 'Company 1', 'country': 'United States'},\n",
       " {'full_name': 'Tom Smith',\n",
       "  'company': 'Company 2',\n",
       "  'country': 'United Kingdom'},\n",
       " {'full_name': 'Andrew Sebastian',\n",
       "  'company': 'Company 3',\n",
       "  'country': 'United States'},\n",
       " {'full_name': 'Ying Han Tan',\n",
       "  'company': 'Company 1',\n",
       "  'country': 'United States'},\n",
       " {'full_name': 'Kenneth Ng',\n",
       "  'company': 'Company 3',\n",
       "  'country': 'United States'},\n",
       " {'full_name': 'Rubby Lee',\n",
       "  'company': 'Company 2',\n",
       "  'country': 'United Kingdom'},\n",
       " {'full_name': 'Robert White',\n",
       "  'company': 'Company 1',\n",
       "  'country': 'United States'}]"
      ]
     },
     "execution_count": 90,
     "metadata": {},
     "output_type": "execute_result"
    }
   ],
   "source": [
    "# Function\n",
    "result_task4 = []\n",
    "\n",
    "def country_by_company(employee):\n",
    "    country = \"\"\n",
    "\n",
    "    for company in company_detail_list:\n",
    "        if employee[\"company\"] == company[\"name\"]:\n",
    "            country = company[\"country\"]\n",
    "    \n",
    "    return {\n",
    "        \"full_name\": employee_list[\"full_name\"],\n",
    "        \"company\": employee_list[\"company\"],\n",
    "        \"country\": country\n",
    "    }\n",
    "    \n",
    "for employee_list in employee_detail_list:\n",
    "    employee = country_by_company(employee_list)\n",
    "\n",
    "    result_task4.append(employee)\n",
    "\n",
    "result_task4"
   ]
  },
  {
   "cell_type": "markdown",
   "id": "72714690-91b3-41b6-9195-9e87667579a7",
   "metadata": {},
   "source": [
    "### Task 5"
   ]
  },
  {
   "cell_type": "code",
   "execution_count": 91,
   "id": "98b0e948-5ce7-4eb6-ad73-77f0537f34a3",
   "metadata": {},
   "outputs": [],
   "source": [
    "# Expected return\n",
    "# [\n",
    "#     {\n",
    "#         \"company\": \"Company 1\",\n",
    "#         \"employee_nationality\": {\n",
    "#             \"Australia\": 2,\n",
    "#             \"Hong Kong\": 1\n",
    "#         }\n",
    "#     }, \n",
    "#     {\n",
    "#         \"company\": \"Company 2\",\n",
    "#         \"employee_nationality\": {\n",
    "#             \"Hong Kong\": 1,\n",
    "#             \"United States\": 1\n",
    "#         }\n",
    "#     }, \n",
    "#     {\n",
    "#         \"company\": \"Company 3\",\n",
    "#         \"employee_nationality\": {\n",
    "#             \"United States\": 2\n",
    "#         }\n",
    "#     }\n",
    "# ]"
   ]
  },
  {
   "cell_type": "code",
   "execution_count": 92,
   "id": "c21c7222-cf68-4d92-8b6a-d03d3a78e608",
   "metadata": {},
   "outputs": [
    {
     "data": {
      "text/plain": [
       "[{'company': 'Company 1',\n",
       "  'employee_nationality': {'Australia': 2, 'United Kingdom': 1}},\n",
       " {'company': 'Company 2',\n",
       "  'employee_nationality': {'United States': 1, 'Hong Kong': 1}},\n",
       " {'company': 'Company 3', 'employee_nationality': {'United States': 2}}]"
      ]
     },
     "execution_count": 92,
     "metadata": {},
     "output_type": "execute_result"
    }
   ],
   "source": [
    "result_task5 = []\n",
    "\n",
    "def country_count_in_company(company):\n",
    "    nationality = {}\n",
    "\n",
    "    for employee in employee_detail_list:\n",
    "        if(employee[\"company\"] == company[\"name\"]):\n",
    "            if employee[\"nationality\"] in nationality:\n",
    "                nationality[employee[\"nationality\"]] += 1\n",
    "            else:\n",
    "                nationality[employee[\"nationality\"]] = 1\n",
    "            \n",
    "    return {\n",
    "        \"company\": company[\"name\"],\n",
    "        \"employee_nationality\": nationality\n",
    "    }\n",
    "\n",
    "for company_list in company_detail_list:\n",
    "    company = country_count_in_company(company_list)\n",
    "\n",
    "    result_task5.append(company)\n",
    "\n",
    "result_task5"
   ]
  }
 ],
 "metadata": {
  "kernelspec": {
   "display_name": "Python 3 (ipykernel)",
   "language": "python",
   "name": "python3"
  },
  "language_info": {
   "codemirror_mode": {
    "name": "ipython",
    "version": 3
   },
   "file_extension": ".py",
   "mimetype": "text/x-python",
   "name": "python",
   "nbconvert_exporter": "python",
   "pygments_lexer": "ipython3",
   "version": "3.12.4"
  }
 },
 "nbformat": 4,
 "nbformat_minor": 5
}
